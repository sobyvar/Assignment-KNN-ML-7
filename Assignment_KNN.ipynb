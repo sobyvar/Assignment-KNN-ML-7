{
  "nbformat": 4,
  "nbformat_minor": 0,
  "metadata": {
    "colab": {
      "name": "Assignment KNN.ipynb",
      "version": "0.3.2",
      "provenance": [],
      "collapsed_sections": []
    },
    "kernelspec": {
      "name": "python3",
      "display_name": "Python 3"
    }
  },
  "cells": [
    {
      "metadata": {
        "id": "3yiq7uzEomtc",
        "colab_type": "code",
        "colab": {}
      },
      "cell_type": "code",
      "source": [
        "!pip install -U -q PyDrive"
      ],
      "execution_count": 0,
      "outputs": []
    },
    {
      "metadata": {
        "id": "lhjAj-cQ9mZ-",
        "colab_type": "text"
      },
      "cell_type": "markdown",
      "source": [
        "Import the packages needed to run the python program in colab"
      ]
    },
    {
      "metadata": {
        "id": "-lpSRGgrosrZ",
        "colab_type": "code",
        "colab": {}
      },
      "cell_type": "code",
      "source": [
        "import keras\n",
        "import psutil\n",
        "import pandas as pd\n",
        "import tensorflow as tf\n",
        "from google.colab import auth\n",
        "from google.colab import files\n",
        "from pydrive.auth import GoogleAuth\n",
        "from pydrive.drive import GoogleDrive\n",
        "from oauth2client.client import GoogleCredentials"
      ],
      "execution_count": 0,
      "outputs": []
    },
    {
      "metadata": {
        "id": "G-l7U_9j9uTQ",
        "colab_type": "text"
      },
      "cell_type": "markdown",
      "source": [
        "Authenticate the user"
      ]
    },
    {
      "metadata": {
        "id": "e6pibEGjov2k",
        "colab_type": "code",
        "colab": {}
      },
      "cell_type": "code",
      "source": [
        "auth.authenticate_user()\n",
        "gauth = GoogleAuth()\n",
        "gauth.credentials = GoogleCredentials.get_application_default()\n",
        "drive = GoogleDrive(gauth)"
      ],
      "execution_count": 0,
      "outputs": []
    },
    {
      "metadata": {
        "id": "xiurFK6r9yp_",
        "colab_type": "text"
      },
      "cell_type": "markdown",
      "source": [
        "Read the content of the csv file"
      ]
    },
    {
      "metadata": {
        "id": "4Jn_6hytpb0_",
        "colab_type": "code",
        "colab": {}
      },
      "cell_type": "code",
      "source": [
        "file1 = drive.CreateFile({'id':'0Bz1cw7gJmrcsZzN4TlNWSkRHblhBaXJLY1pjZFpLWlN2VV9B'})\n",
        "file1.GetContentFile('nba_2013.csv')"
      ],
      "execution_count": 0,
      "outputs": []
    },
    {
      "metadata": {
        "id": "oaF-4cLR920G",
        "colab_type": "text"
      },
      "cell_type": "markdown",
      "source": [
        "Read the csv file"
      ]
    },
    {
      "metadata": {
        "id": "IcUmOvAzpkU3",
        "colab_type": "code",
        "colab": {}
      },
      "cell_type": "code",
      "source": [
        "with open(\"nba_2013.csv\", 'r') as csvfile:\n",
        "    nba = pd.read_csv(csvfile)"
      ],
      "execution_count": 0,
      "outputs": []
    },
    {
      "metadata": {
        "id": "I5uWD9pm96dz",
        "colab_type": "text"
      },
      "cell_type": "markdown",
      "source": [
        "Display the first 5 records"
      ]
    },
    {
      "metadata": {
        "id": "8PYUlyRIpoCw",
        "colab_type": "code",
        "colab": {
          "base_uri": "https://localhost:8080/",
          "height": 233
        },
        "outputId": "a422d019-41a4-4673-b7fc-0eb22972bd2e"
      },
      "cell_type": "code",
      "source": [
        "nba.head()"
      ],
      "execution_count": 38,
      "outputs": [
        {
          "output_type": "execute_result",
          "data": {
            "text/html": [
              "<div>\n",
              "<style scoped>\n",
              "    .dataframe tbody tr th:only-of-type {\n",
              "        vertical-align: middle;\n",
              "    }\n",
              "\n",
              "    .dataframe tbody tr th {\n",
              "        vertical-align: top;\n",
              "    }\n",
              "\n",
              "    .dataframe thead th {\n",
              "        text-align: right;\n",
              "    }\n",
              "</style>\n",
              "<table border=\"1\" class=\"dataframe\">\n",
              "  <thead>\n",
              "    <tr style=\"text-align: right;\">\n",
              "      <th></th>\n",
              "      <th>player</th>\n",
              "      <th>pos</th>\n",
              "      <th>age</th>\n",
              "      <th>bref_team_id</th>\n",
              "      <th>g</th>\n",
              "      <th>gs</th>\n",
              "      <th>mp</th>\n",
              "      <th>fg</th>\n",
              "      <th>fga</th>\n",
              "      <th>fg.</th>\n",
              "      <th>...</th>\n",
              "      <th>drb</th>\n",
              "      <th>trb</th>\n",
              "      <th>ast</th>\n",
              "      <th>stl</th>\n",
              "      <th>blk</th>\n",
              "      <th>tov</th>\n",
              "      <th>pf</th>\n",
              "      <th>pts</th>\n",
              "      <th>season</th>\n",
              "      <th>season_end</th>\n",
              "    </tr>\n",
              "  </thead>\n",
              "  <tbody>\n",
              "    <tr>\n",
              "      <th>0</th>\n",
              "      <td>Quincy Acy</td>\n",
              "      <td>SF</td>\n",
              "      <td>23</td>\n",
              "      <td>TOT</td>\n",
              "      <td>63</td>\n",
              "      <td>0</td>\n",
              "      <td>847</td>\n",
              "      <td>66</td>\n",
              "      <td>141</td>\n",
              "      <td>0.468</td>\n",
              "      <td>...</td>\n",
              "      <td>144</td>\n",
              "      <td>216</td>\n",
              "      <td>28</td>\n",
              "      <td>23</td>\n",
              "      <td>26</td>\n",
              "      <td>30</td>\n",
              "      <td>122</td>\n",
              "      <td>171</td>\n",
              "      <td>2013-2014</td>\n",
              "      <td>2013</td>\n",
              "    </tr>\n",
              "    <tr>\n",
              "      <th>1</th>\n",
              "      <td>Steven Adams</td>\n",
              "      <td>C</td>\n",
              "      <td>20</td>\n",
              "      <td>OKC</td>\n",
              "      <td>81</td>\n",
              "      <td>20</td>\n",
              "      <td>1197</td>\n",
              "      <td>93</td>\n",
              "      <td>185</td>\n",
              "      <td>0.503</td>\n",
              "      <td>...</td>\n",
              "      <td>190</td>\n",
              "      <td>332</td>\n",
              "      <td>43</td>\n",
              "      <td>40</td>\n",
              "      <td>57</td>\n",
              "      <td>71</td>\n",
              "      <td>203</td>\n",
              "      <td>265</td>\n",
              "      <td>2013-2014</td>\n",
              "      <td>2013</td>\n",
              "    </tr>\n",
              "    <tr>\n",
              "      <th>2</th>\n",
              "      <td>Jeff Adrien</td>\n",
              "      <td>PF</td>\n",
              "      <td>27</td>\n",
              "      <td>TOT</td>\n",
              "      <td>53</td>\n",
              "      <td>12</td>\n",
              "      <td>961</td>\n",
              "      <td>143</td>\n",
              "      <td>275</td>\n",
              "      <td>0.520</td>\n",
              "      <td>...</td>\n",
              "      <td>204</td>\n",
              "      <td>306</td>\n",
              "      <td>38</td>\n",
              "      <td>24</td>\n",
              "      <td>36</td>\n",
              "      <td>39</td>\n",
              "      <td>108</td>\n",
              "      <td>362</td>\n",
              "      <td>2013-2014</td>\n",
              "      <td>2013</td>\n",
              "    </tr>\n",
              "    <tr>\n",
              "      <th>3</th>\n",
              "      <td>Arron Afflalo</td>\n",
              "      <td>SG</td>\n",
              "      <td>28</td>\n",
              "      <td>ORL</td>\n",
              "      <td>73</td>\n",
              "      <td>73</td>\n",
              "      <td>2552</td>\n",
              "      <td>464</td>\n",
              "      <td>1011</td>\n",
              "      <td>0.459</td>\n",
              "      <td>...</td>\n",
              "      <td>230</td>\n",
              "      <td>262</td>\n",
              "      <td>248</td>\n",
              "      <td>35</td>\n",
              "      <td>3</td>\n",
              "      <td>146</td>\n",
              "      <td>136</td>\n",
              "      <td>1330</td>\n",
              "      <td>2013-2014</td>\n",
              "      <td>2013</td>\n",
              "    </tr>\n",
              "    <tr>\n",
              "      <th>4</th>\n",
              "      <td>Alexis Ajinca</td>\n",
              "      <td>C</td>\n",
              "      <td>25</td>\n",
              "      <td>NOP</td>\n",
              "      <td>56</td>\n",
              "      <td>30</td>\n",
              "      <td>951</td>\n",
              "      <td>136</td>\n",
              "      <td>249</td>\n",
              "      <td>0.546</td>\n",
              "      <td>...</td>\n",
              "      <td>183</td>\n",
              "      <td>277</td>\n",
              "      <td>40</td>\n",
              "      <td>23</td>\n",
              "      <td>46</td>\n",
              "      <td>63</td>\n",
              "      <td>187</td>\n",
              "      <td>328</td>\n",
              "      <td>2013-2014</td>\n",
              "      <td>2013</td>\n",
              "    </tr>\n",
              "  </tbody>\n",
              "</table>\n",
              "<p>5 rows × 31 columns</p>\n",
              "</div>"
            ],
            "text/plain": [
              "          player pos  age bref_team_id   g  gs    mp   fg   fga    fg.  \\\n",
              "0     Quincy Acy  SF   23          TOT  63   0   847   66   141  0.468   \n",
              "1   Steven Adams   C   20          OKC  81  20  1197   93   185  0.503   \n",
              "2    Jeff Adrien  PF   27          TOT  53  12   961  143   275  0.520   \n",
              "3  Arron Afflalo  SG   28          ORL  73  73  2552  464  1011  0.459   \n",
              "4  Alexis Ajinca   C   25          NOP  56  30   951  136   249  0.546   \n",
              "\n",
              "      ...      drb  trb  ast  stl  blk  tov   pf   pts     season  season_end  \n",
              "0     ...      144  216   28   23   26   30  122   171  2013-2014        2013  \n",
              "1     ...      190  332   43   40   57   71  203   265  2013-2014        2013  \n",
              "2     ...      204  306   38   24   36   39  108   362  2013-2014        2013  \n",
              "3     ...      230  262  248   35    3  146  136  1330  2013-2014        2013  \n",
              "4     ...      183  277   40   23   46   63  187   328  2013-2014        2013  \n",
              "\n",
              "[5 rows x 31 columns]"
            ]
          },
          "metadata": {
            "tags": []
          },
          "execution_count": 38
        }
      ]
    },
    {
      "metadata": {
        "id": "g-228zJc-aLB",
        "colab_type": "text"
      },
      "cell_type": "markdown",
      "source": [
        "Fill Fill NA/NaN values  with 0"
      ]
    },
    {
      "metadata": {
        "id": "vBdJIfP8qPDE",
        "colab_type": "code",
        "colab": {}
      },
      "cell_type": "code",
      "source": [
        "# Fill in NA values \n",
        "nba.fillna(0, inplace=True)"
      ],
      "execution_count": 0,
      "outputs": []
    },
    {
      "metadata": {
        "id": "XhRoifch-sRo",
        "colab_type": "text"
      },
      "cell_type": "markdown",
      "source": [
        "Divide the training and test set"
      ]
    },
    {
      "metadata": {
        "id": "KhtYO9JlqTg9",
        "colab_type": "code",
        "colab": {}
      },
      "cell_type": "code",
      "source": [
        "import math\n",
        "import random\n",
        "from numpy.random import permutation\n",
        "\n",
        "# Randomly shuffle the index of nba.\n",
        "random_indices = permutation(nba.index)\n",
        "# Set a cutoff for how many items we want in the test set (in this case 1/3 of the items)\n",
        "test_cutoff = math.floor(len(nba)/3)\n",
        "# Generate the test set by taking the first 1/3 of the randomly shuffled indices.\n",
        "test = nba.loc[random_indices[1:test_cutoff]]\n",
        "# Generate the train set with the rest of the data.\n",
        "train = nba.loc[random_indices[test_cutoff:]]"
      ],
      "execution_count": 0,
      "outputs": []
    },
    {
      "metadata": {
        "id": "QiGQ5vQJ-0IN",
        "colab_type": "text"
      },
      "cell_type": "markdown",
      "source": [
        "Using FNN algorithm fit and predict the model"
      ]
    },
    {
      "metadata": {
        "id": "XtDvQ_Fbqk5Z",
        "colab_type": "code",
        "colab": {}
      },
      "cell_type": "code",
      "source": [
        "# The columns that we will be making predictions with.\n",
        "x_columns = ['age', 'g', 'gs', 'mp', 'fg', 'fga', 'fg.', 'x3p', 'x3pa', 'x3p.', 'x2p', 'x2pa', 'x2p.', 'efg.', 'ft', 'fta', 'ft.', 'orb', 'drb', 'trb', 'ast', 'stl', 'blk', 'tov', 'pf']\n",
        "# The column that we want to predict.\n",
        "y_column = [\"pts\"]\n",
        "\n",
        "from sklearn.neighbors import KNeighborsRegressor\n",
        "# Create the knn model.\n",
        "# Look at the five closest neighbors.\n",
        "knn = KNeighborsRegressor(n_neighbors=5)\n",
        "# Fit the model on the training data.\n",
        "knn.fit(train[x_columns], train[y_column])\n",
        "# Make point predictions on the test set using the fit model.\n",
        "predictions = knn.predict(test[x_columns])"
      ],
      "execution_count": 0,
      "outputs": []
    },
    {
      "metadata": {
        "id": "1UyH96kc-9HY",
        "colab_type": "text"
      },
      "cell_type": "markdown",
      "source": [
        "Calculate the mean square error"
      ]
    },
    {
      "metadata": {
        "id": "sN7rG9LvuKyc",
        "colab_type": "code",
        "colab": {
          "base_uri": "https://localhost:8080/",
          "height": 51
        },
        "outputId": "a6ad6de4-217c-453f-c071-338179f58dbd"
      },
      "cell_type": "code",
      "source": [
        "# Get the actual values for the test set.\n",
        "actual = test[y_column]\n",
        "\n",
        "# Compute the mean squared error of our predictions.\n",
        "mse = (((predictions - actual) ** 2).sum()) / len(predictions)\n",
        "mse"
      ],
      "execution_count": 42,
      "outputs": [
        {
          "output_type": "execute_result",
          "data": {
            "text/plain": [
              "pts    5493.478239\n",
              "dtype: float64"
            ]
          },
          "metadata": {
            "tags": []
          },
          "execution_count": 42
        }
      ]
    },
    {
      "metadata": {
        "id": "bhWySU3y_BF3",
        "colab_type": "text"
      },
      "cell_type": "markdown",
      "source": [
        "Print the accuracy of model"
      ]
    },
    {
      "metadata": {
        "id": "o-VGLvU-84WY",
        "colab_type": "code",
        "colab": {
          "base_uri": "https://localhost:8080/",
          "height": 34
        },
        "outputId": "9f444c39-2d1b-417b-9f07-f8edb5d6be15"
      },
      "cell_type": "code",
      "source": [
        "# Calculate the accuracy\n",
        "acc = round(knn.score(test[x_columns], test[y_column]) * 100, 2) \n",
        "print('accuracy of model',acc)"
      ],
      "execution_count": 43,
      "outputs": [
        {
          "output_type": "stream",
          "text": [
            "accuracy of model 97.17\n"
          ],
          "name": "stdout"
        }
      ]
    }
  ]
}